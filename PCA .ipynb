{
 "cells": [
  {
   "cell_type": "code",
   "execution_count": 1,
   "metadata": {},
   "outputs": [],
   "source": [
    "import pandas as pd\n",
    "import numpy as np\n",
    "import matplotlib.pyplot as plt\n",
    "from sklearn.decomposition import PCA\n",
    "from sklearn import preprocessing\n",
    "%matplotlib inline"
   ]
  },
  {
   "cell_type": "markdown",
   "metadata": {},
   "source": [
    "Error handling to check if the input files are not of the desired format."
   ]
  },
  {
   "cell_type": "code",
   "execution_count": 2,
   "metadata": {},
   "outputs": [
    {
     "name": "stderr",
     "output_type": "stream",
     "text": [
      "/home/user/anaconda3/lib/python3.6/site-packages/IPython/core/interactiveshell.py:2785: DtypeWarning: Columns (3,14) have mixed types. Specify dtype option on import or set low_memory=False.\n",
      "  interactivity=interactivity, compiler=compiler, result=result)\n"
     ]
    }
   ],
   "source": [
    "try:\n",
    "    data=pd.read_csv('Assignment-gene_data.csv',index_col=0)\n",
    "except pd.errors.EmptyDataError as e:\n",
    "    print(e)\n",
    "    print(\"Not a CSV file or file not exist\")"
   ]
  },
  {
   "cell_type": "code",
   "execution_count": 3,
   "metadata": {},
   "outputs": [
    {
     "name": "stdout",
     "output_type": "stream",
     "text": [
      "Index(['S1', 'S2', 'S3', 'S4', 'S5', 'S6', 'S7', 'S8', 'S9', 'S10', 'S11',\n",
      "       'S12', 'S13', 'S14', 'S15', 'S16', 'S17', 'S18', 'S19', 'S20', 'S21',\n",
      "       'S22', 'S23', 'S24', 'S25', 'S26', 'S27', 'S28', 'S29', 'S30'],\n",
      "      dtype='object')\n",
      "\n",
      "Total rows in data set are: 22411\n",
      "Total columns in data set are: 22411\n"
     ]
    }
   ],
   "source": [
    " data.set_index('symbol',inplace=True)\n",
    " print(data.keys())\n",
    " print('')\n",
    " print('Total rows in data set are:',data.shape[0])\n",
    " print('Total columns in data set are:',data.shape[0])"
   ]
  },
  {
   "cell_type": "code",
   "execution_count": 4,
   "metadata": {},
   "outputs": [
    {
     "data": {
      "text/html": [
       "<div>\n",
       "<style scoped>\n",
       "    .dataframe tbody tr th:only-of-type {\n",
       "        vertical-align: middle;\n",
       "    }\n",
       "\n",
       "    .dataframe tbody tr th {\n",
       "        vertical-align: top;\n",
       "    }\n",
       "\n",
       "    .dataframe thead th {\n",
       "        text-align: right;\n",
       "    }\n",
       "</style>\n",
       "<table border=\"1\" class=\"dataframe\">\n",
       "  <thead>\n",
       "    <tr style=\"text-align: right;\">\n",
       "      <th></th>\n",
       "      <th>S1</th>\n",
       "      <th>S2</th>\n",
       "      <th>S3</th>\n",
       "      <th>S4</th>\n",
       "      <th>S5</th>\n",
       "      <th>S6</th>\n",
       "      <th>S7</th>\n",
       "      <th>S8</th>\n",
       "      <th>S9</th>\n",
       "      <th>S10</th>\n",
       "      <th>...</th>\n",
       "      <th>S21</th>\n",
       "      <th>S22</th>\n",
       "      <th>S23</th>\n",
       "      <th>S24</th>\n",
       "      <th>S25</th>\n",
       "      <th>S26</th>\n",
       "      <th>S27</th>\n",
       "      <th>S28</th>\n",
       "      <th>S29</th>\n",
       "      <th>S30</th>\n",
       "    </tr>\n",
       "    <tr>\n",
       "      <th>symbol</th>\n",
       "      <th></th>\n",
       "      <th></th>\n",
       "      <th></th>\n",
       "      <th></th>\n",
       "      <th></th>\n",
       "      <th></th>\n",
       "      <th></th>\n",
       "      <th></th>\n",
       "      <th></th>\n",
       "      <th></th>\n",
       "      <th></th>\n",
       "      <th></th>\n",
       "      <th></th>\n",
       "      <th></th>\n",
       "      <th></th>\n",
       "      <th></th>\n",
       "      <th></th>\n",
       "      <th></th>\n",
       "      <th></th>\n",
       "      <th></th>\n",
       "      <th></th>\n",
       "    </tr>\n",
       "  </thead>\n",
       "  <tbody>\n",
       "    <tr>\n",
       "      <th>Zzz3</th>\n",
       "      <td>253.401685</td>\n",
       "      <td>402.8508776</td>\n",
       "      <td>230.957463</td>\n",
       "      <td>688.486264</td>\n",
       "      <td>358.067836</td>\n",
       "      <td>344.962350</td>\n",
       "      <td>441.155001</td>\n",
       "      <td>301.149694</td>\n",
       "      <td>390.361685</td>\n",
       "      <td>431.707182</td>\n",
       "      <td>...</td>\n",
       "      <td>507.882774</td>\n",
       "      <td>465.081486</td>\n",
       "      <td>415.478767</td>\n",
       "      <td>297.061149</td>\n",
       "      <td>488.848114</td>\n",
       "      <td>367.912141</td>\n",
       "      <td>307.199908</td>\n",
       "      <td>347.802509</td>\n",
       "      <td>411.227261</td>\n",
       "      <td>283.709694</td>\n",
       "    </tr>\n",
       "    <tr>\n",
       "      <th>Zzef1</th>\n",
       "      <td>21.152797</td>\n",
       "      <td>21.15279694</td>\n",
       "      <td>21.152797</td>\n",
       "      <td>21.152797</td>\n",
       "      <td>21.152797</td>\n",
       "      <td>21.152797</td>\n",
       "      <td>21.152797</td>\n",
       "      <td>21.152797</td>\n",
       "      <td>21.152797</td>\n",
       "      <td>21.152797</td>\n",
       "      <td>...</td>\n",
       "      <td>21.152797</td>\n",
       "      <td>21.152797</td>\n",
       "      <td>21.152797</td>\n",
       "      <td>21.152797</td>\n",
       "      <td>21.152797</td>\n",
       "      <td>21.152797</td>\n",
       "      <td>21.152797</td>\n",
       "      <td>21.152797</td>\n",
       "      <td>21.152797</td>\n",
       "      <td>21.152797</td>\n",
       "    </tr>\n",
       "    <tr>\n",
       "      <th>Zyx</th>\n",
       "      <td>40.578958</td>\n",
       "      <td>49.23516006</td>\n",
       "      <td>59.472005</td>\n",
       "      <td>46.212152</td>\n",
       "      <td>61.969671</td>\n",
       "      <td>55.732843</td>\n",
       "      <td>53.819870</td>\n",
       "      <td>54.315691</td>\n",
       "      <td>73.016585</td>\n",
       "      <td>51.144296</td>\n",
       "      <td>...</td>\n",
       "      <td>33.512262</td>\n",
       "      <td>36.751853</td>\n",
       "      <td>36.952457</td>\n",
       "      <td>35.718610</td>\n",
       "      <td>27.346198</td>\n",
       "      <td>32.647887</td>\n",
       "      <td>42.006833</td>\n",
       "      <td>32.324596</td>\n",
       "      <td>41.426033</td>\n",
       "      <td>32.754971</td>\n",
       "    </tr>\n",
       "    <tr>\n",
       "      <th>Zyg11b</th>\n",
       "      <td>26.373102</td>\n",
       "      <td>35.00190057</td>\n",
       "      <td>32.389728</td>\n",
       "      <td>34.932372</td>\n",
       "      <td>35.192365</td>\n",
       "      <td>33.858459</td>\n",
       "      <td>27.948378</td>\n",
       "      <td>21.152797</td>\n",
       "      <td>32.283053</td>\n",
       "      <td>30.057553</td>\n",
       "      <td>...</td>\n",
       "      <td>21.152797</td>\n",
       "      <td>21.152797</td>\n",
       "      <td>21.152797</td>\n",
       "      <td>21.152797</td>\n",
       "      <td>21.152797</td>\n",
       "      <td>21.152797</td>\n",
       "      <td>21.152797</td>\n",
       "      <td>21.152797</td>\n",
       "      <td>21.152797</td>\n",
       "      <td>21.152797</td>\n",
       "    </tr>\n",
       "    <tr>\n",
       "      <th>Zyg11a</th>\n",
       "      <td>21.152797</td>\n",
       "      <td>21.15279694</td>\n",
       "      <td>21.152797</td>\n",
       "      <td>21.152797</td>\n",
       "      <td>21.152797</td>\n",
       "      <td>21.152797</td>\n",
       "      <td>21.152797</td>\n",
       "      <td>21.152797</td>\n",
       "      <td>21.152797</td>\n",
       "      <td>21.152797</td>\n",
       "      <td>...</td>\n",
       "      <td>21.152797</td>\n",
       "      <td>21.152797</td>\n",
       "      <td>21.152797</td>\n",
       "      <td>21.152797</td>\n",
       "      <td>21.152797</td>\n",
       "      <td>21.152797</td>\n",
       "      <td>21.152797</td>\n",
       "      <td>21.152797</td>\n",
       "      <td>21.152797</td>\n",
       "      <td>21.152797</td>\n",
       "    </tr>\n",
       "  </tbody>\n",
       "</table>\n",
       "<p>5 rows × 30 columns</p>\n",
       "</div>"
      ],
      "text/plain": [
       "                S1           S2          S3          S4          S5  \\\n",
       "symbol                                                                \n",
       "Zzz3    253.401685  402.8508776  230.957463  688.486264  358.067836   \n",
       "Zzef1    21.152797  21.15279694   21.152797   21.152797   21.152797   \n",
       "Zyx      40.578958  49.23516006   59.472005   46.212152   61.969671   \n",
       "Zyg11b   26.373102  35.00190057   32.389728   34.932372   35.192365   \n",
       "Zyg11a   21.152797  21.15279694   21.152797   21.152797   21.152797   \n",
       "\n",
       "                S6          S7          S8          S9         S10  \\\n",
       "symbol                                                               \n",
       "Zzz3    344.962350  441.155001  301.149694  390.361685  431.707182   \n",
       "Zzef1    21.152797   21.152797   21.152797   21.152797   21.152797   \n",
       "Zyx      55.732843   53.819870   54.315691   73.016585   51.144296   \n",
       "Zyg11b   33.858459   27.948378   21.152797   32.283053   30.057553   \n",
       "Zyg11a   21.152797   21.152797   21.152797   21.152797   21.152797   \n",
       "\n",
       "           ...             S21         S22         S23         S24  \\\n",
       "symbol     ...                                                       \n",
       "Zzz3       ...      507.882774  465.081486  415.478767  297.061149   \n",
       "Zzef1      ...       21.152797   21.152797   21.152797   21.152797   \n",
       "Zyx        ...       33.512262   36.751853   36.952457   35.718610   \n",
       "Zyg11b     ...       21.152797   21.152797   21.152797   21.152797   \n",
       "Zyg11a     ...       21.152797   21.152797   21.152797   21.152797   \n",
       "\n",
       "               S25         S26         S27         S28         S29         S30  \n",
       "symbol                                                                          \n",
       "Zzz3    488.848114  367.912141  307.199908  347.802509  411.227261  283.709694  \n",
       "Zzef1    21.152797   21.152797   21.152797   21.152797   21.152797   21.152797  \n",
       "Zyx      27.346198   32.647887   42.006833   32.324596   41.426033   32.754971  \n",
       "Zyg11b   21.152797   21.152797   21.152797   21.152797   21.152797   21.152797  \n",
       "Zyg11a   21.152797   21.152797   21.152797   21.152797   21.152797   21.152797  \n",
       "\n",
       "[5 rows x 30 columns]"
      ]
     },
     "execution_count": 4,
     "metadata": {},
     "output_type": "execute_result"
    }
   ],
   "source": [
    "data.head()"
   ]
  },
  {
   "cell_type": "code",
   "execution_count": 5,
   "metadata": {},
   "outputs": [
    {
     "data": {
      "text/plain": [
       "S1     float64\n",
       "S2      object\n",
       "S3     float64\n",
       "S4     float64\n",
       "S5     float64\n",
       "S6     float64\n",
       "S7     float64\n",
       "S8     float64\n",
       "S9     float64\n",
       "S10    float64\n",
       "S11    float64\n",
       "S12    float64\n",
       "S13     object\n",
       "S14    float64\n",
       "S15    float64\n",
       "S16    float64\n",
       "S17    float64\n",
       "S18    float64\n",
       "S19    float64\n",
       "S20    float64\n",
       "S21    float64\n",
       "S22    float64\n",
       "S23    float64\n",
       "S24    float64\n",
       "S25    float64\n",
       "S26    float64\n",
       "S27    float64\n",
       "S28    float64\n",
       "S29    float64\n",
       "S30    float64\n",
       "dtype: object"
      ]
     },
     "execution_count": 5,
     "metadata": {},
     "output_type": "execute_result"
    }
   ],
   "source": [
    "data.dtypes"
   ]
  },
  {
   "cell_type": "markdown",
   "metadata": {},
   "source": [
    "From our dataframe we need to convert object type to float type data for further computation. "
   ]
  },
  {
   "cell_type": "code",
   "execution_count": 6,
   "metadata": {},
   "outputs": [],
   "source": [
    "data['S2'] = data['S2'].apply(pd.to_numeric, errors='coerce')\n",
    "data['S13'] = data['S13'].apply(pd.to_numeric, errors='coerce')"
   ]
  },
  {
   "cell_type": "code",
   "execution_count": 7,
   "metadata": {},
   "outputs": [
    {
     "data": {
      "text/plain": [
       "S1     float64\n",
       "S2     float64\n",
       "S3     float64\n",
       "S4     float64\n",
       "S5     float64\n",
       "S6     float64\n",
       "S7     float64\n",
       "S8     float64\n",
       "S9     float64\n",
       "S10    float64\n",
       "S11    float64\n",
       "S12    float64\n",
       "S13    float64\n",
       "S14    float64\n",
       "S15    float64\n",
       "S16    float64\n",
       "S17    float64\n",
       "S18    float64\n",
       "S19    float64\n",
       "S20    float64\n",
       "S21    float64\n",
       "S22    float64\n",
       "S23    float64\n",
       "S24    float64\n",
       "S25    float64\n",
       "S26    float64\n",
       "S27    float64\n",
       "S28    float64\n",
       "S29    float64\n",
       "S30    float64\n",
       "dtype: object"
      ]
     },
     "execution_count": 7,
     "metadata": {},
     "output_type": "execute_result"
    }
   ],
   "source": [
    "data.dtypes"
   ]
  },
  {
   "cell_type": "code",
   "execution_count": 8,
   "metadata": {},
   "outputs": [
    {
     "data": {
      "text/plain": [
       "S1     0\n",
       "S2     1\n",
       "S3     0\n",
       "S4     0\n",
       "S5     0\n",
       "S6     0\n",
       "S7     0\n",
       "S8     0\n",
       "S9     0\n",
       "S10    0\n",
       "S11    0\n",
       "S12    0\n",
       "S13    1\n",
       "S14    0\n",
       "S15    0\n",
       "S16    0\n",
       "S17    0\n",
       "S18    0\n",
       "S19    0\n",
       "S20    0\n",
       "S21    1\n",
       "S22    0\n",
       "S23    0\n",
       "S24    0\n",
       "S25    0\n",
       "S26    0\n",
       "S27    0\n",
       "S28    0\n",
       "S29    0\n",
       "S30    0\n",
       "dtype: int64"
      ]
     },
     "execution_count": 8,
     "metadata": {},
     "output_type": "execute_result"
    }
   ],
   "source": [
    "data.isnull().sum()"
   ]
  },
  {
   "cell_type": "code",
   "execution_count": 9,
   "metadata": {},
   "outputs": [
    {
     "data": {
      "text/plain": [
       "False"
      ]
     },
     "execution_count": 9,
     "metadata": {},
     "output_type": "execute_result"
    }
   ],
   "source": [
    "#computing missing value\n",
    "median_value1=data['S2'].median()\n",
    "median_value2=data['S13'].median()\n",
    "median_value3=data['S21'].median()\n",
    "data['S2']=data['S2'].fillna(median_value1)\n",
    "data['S13']=data['S13'].fillna(median_value2)\n",
    "data['S21']=data['S21'].fillna(median_value3)\n",
    "data.isnull().any().any()"
   ]
  },
  {
   "cell_type": "code",
   "execution_count": 10,
   "metadata": {},
   "outputs": [],
   "source": [
    "x = data.iloc[:,:].values"
   ]
  },
  {
   "cell_type": "markdown",
   "metadata": {},
   "source": [
    "We will use all 30 sample of our Genes will use an orthogonal transformation to convert a set of observations of possibly correlated variables (entities each of which takes on various numerical values) into a set of values of linearly uncorrelated variables called principal components."
   ]
  },
  {
   "cell_type": "code",
   "execution_count": 11,
   "metadata": {},
   "outputs": [
    {
     "name": "stdout",
     "output_type": "stream",
     "text": [
      "[[253.4016849  402.8508776  230.9574627  ... 347.8025093  411.2272612\n",
      "  283.7096943 ]\n",
      " [ 21.15279694  21.15279694  21.15279694 ...  21.15279694  21.15279694\n",
      "   21.15279694]\n",
      " [ 40.57895796  49.23516006  59.47200461 ...  32.32459562  41.426033\n",
      "   32.754971  ]\n",
      " ...\n",
      " [ 21.15279694  21.15279694  21.15279694 ...  21.15279694  21.15279694\n",
      "   21.15279694]\n",
      " [ 21.15279694  21.15279694  21.15279694 ...  21.15279694  21.15279694\n",
      "   21.15279694]\n",
      " [ 21.15279694  21.15279694  21.15279694 ...  21.15279694  21.15279694\n",
      "   21.15279694]]\n"
     ]
    }
   ],
   "source": [
    "print(x)"
   ]
  },
  {
   "cell_type": "code",
   "execution_count": 12,
   "metadata": {},
   "outputs": [],
   "source": [
    "from sklearn.preprocessing import StandardScaler"
   ]
  },
  {
   "cell_type": "code",
   "execution_count": 13,
   "metadata": {},
   "outputs": [
    {
     "name": "stderr",
     "output_type": "stream",
     "text": [
      "/home/user/anaconda3/lib/python3.6/site-packages/sklearn/preprocessing/data.py:181: UserWarning: Numerical issues were encountered when scaling the data and might not be solved. The standard deviation of the data is probably very close to 0. \n",
      "  warnings.warn(\"Numerical issues were encountered \"\n"
     ]
    }
   ],
   "source": [
    "scaled_data=preprocessing.scale(x.T)"
   ]
  },
  {
   "cell_type": "code",
   "execution_count": 14,
   "metadata": {},
   "outputs": [],
   "source": [
    "pca=PCA()"
   ]
  },
  {
   "cell_type": "code",
   "execution_count": 15,
   "metadata": {},
   "outputs": [],
   "source": [
    "pca.fit(scaled_data)\n",
    "pca_data=pca.transform(scaled_data)"
   ]
  },
  {
   "cell_type": "code",
   "execution_count": 16,
   "metadata": {},
   "outputs": [
    {
     "data": {
      "image/png": "[encoded data removed]",
      "text/plain": [
       "<Figure size 1080x864 with 1 Axes>"
      ]
     },
     "metadata": {},
     "output_type": "display_data"
    },
    {
     "data": {
      "image/png": "[encoded data removed]",
      "text/plain": [
       "<Figure size 648x432 with 1 Axes>"
      ]
     },
     "metadata": {},
     "output_type": "display_data"
    }
   ],
   "source": [
    "per_var=np.round(pca.explained_variance_ratio_*100,decimals=1)\n",
    "labels=['PC'+str(x) for x in range(1,len(per_var)+1)]\n",
    "\n",
    "fig=plt.figure(figsize=(15,12))\n",
    "plt.bar(x=range(1,len(per_var)+1),height=per_var,tick_label=labels)\n",
    "plt.ylabel('Percentage of Experienced')\n",
    "plt.xlabel('Principal Component')\n",
    "plt.title('Scree Plot')\n",
    "plt.show()\n",
    "\n",
    "pca_df=pd.DataFrame(pca_data,columns=labels)\n",
    "\n",
    "\n",
    "fig=plt.figure(figsize=(9,6))\n",
    "plt.scatter(pca_df.PC1,pca_df.PC2,s=5)\n",
    "plt.title('My PCA graph')\n",
    "plt.xlabel('PC1-{0}%'.format(per_var[0]))\n",
    "plt.ylabel('PC2-{0}%'.format(per_var[1]))\n",
    "\n",
    "plt.grid()\n",
    "plt.show()\n",
    "\n"
   ]
  },
  {
   "cell_type": "raw",
   "metadata": {},
   "source": [
    "The explained variance tells you how much information (variance) can be attributed to each of the principal components.By using the attribute explained_variance_ratio_, you can see that the first principal component contains 20.1% of the variance and the second principal component contain 12.8% of the variance. Together, the two components contain 32.9% out of 100% of the information.\n",
    "In the other figure seperation of two samples(clusters) along x-axis suggest that both of these samples are too different from each other."
   ]
  }
 ],
 "metadata": {
  "kernelspec": {
   "display_name": "Python 3",
   "language": "python",
   "name": "python3"
  },
  "language_info": {
   "codemirror_mode": {
    "name": "ipython",
    "version": 3
   },
   "file_extension": ".py",
   "mimetype": "text/x-python",
   "name": "python",
   "nbconvert_exporter": "python",
   "pygments_lexer": "ipython3",
   "version": "3.6.5"
  }
 },
 "nbformat": 4,
 "nbformat_minor": 2
}
